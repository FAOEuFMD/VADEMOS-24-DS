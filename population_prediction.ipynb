{
 "cells": [
  {
   "cell_type": "markdown",
   "id": "de0a50f0-63ba-4a9c-acbb-0f87ae883dd5",
   "metadata": {},
   "source": [
    "<b> NOTE: For the models where we couldn't do the testing because: - we did not have enough data for testing - we did not have enough data for training\n",
    "Or for the models where the prediction was constant, we have assumed we can't choose a model as we haven't been able to either test a model or the model gave a constant value by error and then we will chose the LAST VALUE even if now for forecasting we have enough training data or the prediction wouldn't have been constant! </b>\n",
    "\n"
   ]
  },
  {
   "cell_type": "code",
   "execution_count": null,
   "id": "c3dfe517-6fe0-4f67-a800-358dc2614040",
   "metadata": {},
   "outputs": [],
   "source": [
    "for country in countries:\n",
    "    for animal_type in animal_types:\n",
    "        # Fit ARIMA model for the current combination of country and animal type\n",
    "        arima_model = fit_arima_model(df, country, animal_type)\n",
    "        \n",
    "        # Check if the model is successfully fitted\n",
    "        if arima_model is not None:\n",
    "            # Store the fitted ARIMA model in the dictionary\n",
    "            arima_models[(country, animal_type)] = arima_model'''"
   ]
  }
 ],
 "metadata": {
  "kernelspec": {
   "display_name": "Python 3 (ipykernel)",
   "language": "python",
   "name": "python3"
  },
  "language_info": {
   "codemirror_mode": {
    "name": "ipython",
    "version": 3
   },
   "file_extension": ".py",
   "mimetype": "text/x-python",
   "name": "python",
   "nbconvert_exporter": "python",
   "pygments_lexer": "ipython3",
   "version": "3.11.5"
  }
 },
 "nbformat": 4,
 "nbformat_minor": 5
}
