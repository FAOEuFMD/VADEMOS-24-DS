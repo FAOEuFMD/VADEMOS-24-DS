{
 "cells": [
  {
   "cell_type": "markdown",
   "id": "aba150cd-ace3-4c9f-85d3-1fd0335401ae",
   "metadata": {},
   "source": [
    "Notebook to transform the Gridded Livestock of the World (GLW) cattle density TIFFs data into a workable DataFrame with country, administrative boundary1, administrative boundary2 and number of heads(animals). \n",
    "Validation of the 2020 density data (totals per country) with the FAO STATS for same country/specie/year.\n",
    "% Calculation of each administrative level against total population to be used as future figure to calculate future density assuming the density parameter does not vary much"
   ]
  },
  {
   "cell_type": "markdown",
   "id": "449b24c4-7d85-4565-b80c-7fa10b5c7e37",
   "metadata": {},
   "source": [
    "\n",
    "1. Necessary Libraries:"
   ]
  },
  {
   "cell_type": "code",
   "execution_count": 2,
   "id": "c5d66ab2-56b9-4aba-860e-0f04287400d3",
   "metadata": {},
   "outputs": [],
   "source": [
    "#pip install rasterio geopandas rasterstats\n",
    "import rasterio\n",
    "import geopandas as gpd\n",
    "import pandas as pd\n",
    "import numpy as np\n",
    "from rasterio.plot import show\n",
    "from rasterstats import zonal_stats"
   ]
  },
  {
   "cell_type": "markdown",
   "id": "3c21f249-21da-4ae5-9a66-90fa1b09b64d",
   "metadata": {},
   "source": [
    "2. Load Administrative Boundaries:\n",
    "Download: Obtain a shapefile or GeoJSON containing administrative boundaries with country and region information (second administrative level). You can find suitable data from sources like GADM (https://gadm.org/). Load into GeoPandas:"
   ]
  },
  {
   "cell_type": "code",
   "execution_count": 3,
   "id": "da3be21a-55ed-4f26-a0c2-4d8fbdf53e84",
   "metadata": {},
   "outputs": [],
   "source": [
    "admin_boundaries = gpd.read_file(\"gadm_410.gpkg\")"
   ]
  },
  {
   "cell_type": "code",
   "execution_count": 3,
   "id": "022ef152-f60d-4ef8-bd7b-10ba8b2a776e",
   "metadata": {},
   "outputs": [
    {
     "name": "stdout",
     "output_type": "stream",
     "text": [
      "Index(['UID', 'GID_0', 'NAME_0', 'VARNAME_0', 'GID_1', 'NAME_1', 'VARNAME_1',\n",
      "       'NL_NAME_1', 'ISO_1', 'HASC_1', 'CC_1', 'TYPE_1', 'ENGTYPE_1',\n",
      "       'VALIDFR_1', 'GID_2', 'NAME_2', 'VARNAME_2', 'NL_NAME_2', 'HASC_2',\n",
      "       'CC_2', 'TYPE_2', 'ENGTYPE_2', 'VALIDFR_2', 'GID_3', 'NAME_3',\n",
      "       'VARNAME_3', 'NL_NAME_3', 'HASC_3', 'CC_3', 'TYPE_3', 'ENGTYPE_3',\n",
      "       'VALIDFR_3', 'GID_4', 'NAME_4', 'VARNAME_4', 'CC_4', 'TYPE_4',\n",
      "       'ENGTYPE_4', 'VALIDFR_4', 'GID_5', 'NAME_5', 'CC_5', 'TYPE_5',\n",
      "       'ENGTYPE_5', 'GOVERNEDBY', 'SOVEREIGN', 'DISPUTEDBY', 'REGION',\n",
      "       'VARREGION', 'COUNTRY', 'CONTINENT', 'SUBCONT', 'geometry'],\n",
      "      dtype='object')\n"
     ]
    }
   ],
   "source": [
    "# Display column names to inspect variable names\n",
    "print(admin_boundaries.columns)"
   ]
  },
  {
   "cell_type": "code",
   "execution_count": 4,
   "id": "def0a831-4f24-4246-af98-4038365efaa4",
   "metadata": {},
   "outputs": [],
   "source": [
    "# Ensure correct CRS\n",
    "admin_boundaries = admin_boundaries.to_crs('EPSG:4326')"
   ]
  },
  {
   "cell_type": "markdown",
   "id": "d7c427d7-9815-4c00-b850-d0508ec10512",
   "metadata": {},
   "source": [
    "3. Load Animal Density Rasters:"
   ]
  },
  {
   "cell_type": "code",
   "execution_count": 4,
   "id": "5f9fadfa-e35e-49ad-a1e3-99e194a9f244",
   "metadata": {},
   "outputs": [],
   "source": [
    "cattle_density_raster = rasterio.open('GLW4-2020.D-DA.CTL.tif')\n",
    "#buffalo_density_raster = rasterio.open('GLW4-2020.D-DA.BFL.tif')\n",
    "#goat_density_raster = rasterio.open('GLW4-2020.D-DA.GTS.tif')\n",
    "#sheep_density_raster= rasterio.opne('GLW4-2020.D-DA.SHP.tif')\n",
    "#pig_density_raster= rasterio.opne('GLW4-2020.D-DA.PGS.tif')\n"
   ]
  },
  {
   "cell_type": "markdown",
   "id": "ae7fe136-5ba0-4233-9248-d158de18982a",
   "metadata": {},
   "source": [
    "4. Perform Zonal Statistics"
   ]
  },
  {
   "cell_type": "code",
   "execution_count": null,
   "id": "486e06d4-d883-4363-a715-2024c7aca600",
   "metadata": {},
   "outputs": [],
   "source": [
    "# Define chunk size (number of features in admin_boundaries per chunk)\n",
    "chunk_size = 1000\n",
    "\n",
    "# Get the total number of features\n",
    "total_features = len(admin_boundaries)\n",
    "\n",
    "# Initialize an empty list to store results\n",
    "all_stats = []\n",
    "\n",
    "# Loop through chunks\n",
    "for i in range(0, total_features, chunk_size):\n",
    "    # Select chunk of admin_boundaries\n",
    "    admin_chunk = admin_boundaries.iloc[i:i + chunk_size]\n",
    "    \n",
    "    # Perform zonal statistics on the chunk\n",
    "    stats_chunk = zonal_stats(admin_chunk, cattle_density_raster, stats=\"sum\", geojson_out=True)\n",
    "    \n",
    "    # Append results to the list\n",
    "    all_stats.extend(stats_chunk)\n",
    "\n",
    "# Now all_stats contains zonal statistics for all chunks"
   ]
  },
  {
   "cell_type": "code",
   "execution_count": null,
   "id": "e5ffb74b-27f1-4327-b844-376eb69f350c",
   "metadata": {},
   "outputs": [],
   "source": [
    "# Perform zonal statistics chunked above as notebook crashes\n",
    "#stats = zonal_stats(admin_boundaries, cattle_density_raster, stats=\"sum\", geojson_out=True)\n"
   ]
  },
  {
   "cell_type": "markdown",
   "id": "0726e193-716b-449d-b3c6-7e741f3ee6b9",
   "metadata": {},
   "source": [
    "5. Convert to DataFrame and Export to CSV"
   ]
  },
  {
   "cell_type": "code",
   "execution_count": null,
   "id": "3b7cf701-1254-4217-a9d8-e62fbdb8194c",
   "metadata": {},
   "outputs": [],
   "source": [
    "\n",
    "\n",
    "# Convert to DataFrame\n",
    "results_df = pd.DataFrame(stats)\n",
    "\n",
    "# Extract relevant attributes from GeoDataFrame (if needed)\n",
    "results_df['NAME_1'] = admin_boundaries['NAME_1']\n",
    "results_df['NAME_2'] = admin_boundaries['NAME_2']\n",
    "\n",
    "\n"
   ]
  },
  {
   "cell_type": "markdown",
   "id": "ab2d0d8f-24dd-4e66-b2ef-b83b4ebbd654",
   "metadata": {},
   "source": [
    "6. Load FAO Animal Stats and validate "
   ]
  },
  {
   "cell_type": "code",
   "execution_count": null,
   "id": "b70280d4-d745-4e3b-bdc1-0e8de281d40e",
   "metadata": {},
   "outputs": [],
   "source": [
    "# Specify the path to your CSV file\n",
    "csv_file = \"FAO_animal_stats.csv\"\n",
    "\n",
    "# Load the CSV file into a DataFrame\n",
    "df = pd.read_csv(csv_file)\n",
    "\n",
    "# Display the columns to understand the structure of the data\n",
    "print(df.columns)\n",
    "\n",
    "# Filter for the year 2020 and specific species\n",
    "species_of_interest = ['Cattle', 'Buffalo', 'Pigs', 'Goats', 'Sheep']\n",
    "\n",
    "fao_totals = df[(df['Year'] == 2020) & (df['Item'].isin(species_of_interest))]\n",
    "\n",
    "# Display the first few rows to verify the data\n",
    "print(filtered_data.head())\n"
   ]
  },
  {
   "cell_type": "code",
   "execution_count": null,
   "id": "3f37ea87-8a0e-48e1-a53a-ce4c02dc0ad6",
   "metadata": {},
   "outputs": [],
   "source": [
    "# Assuming results_df is the DataFrame from zonal statistics\n",
    "# Group by NAME_1 (first administrative level) and sum the animal counts for each species\n",
    "zonal_totals = results_df.groupby('NAME_1')[['Cattle', 'Buffalo', 'Pigs', 'Goats', 'Sheep']].sum()\n"
   ]
  },
  {
   "cell_type": "code",
   "execution_count": null,
   "id": "ea443504-d07f-4481-ae2f-8cb13aeddf15",
   "metadata": {},
   "outputs": [],
   "source": [
    "# Merge zonal_totals and fao_totals on the index (assuming NAME_1 and Area match)\n",
    "comparison = pd.merge(zonal_totals, fao_totals, left_index=True, right_index=True, suffixes=('_zonal', '_fao'))\n",
    "\n",
    "# Print the comparison\n",
    "print(comparison)\n"
   ]
  },
  {
   "cell_type": "code",
   "execution_count": null,
   "id": "2d4e3ace-8163-4ce1-bd05-e96e1c04d677",
   "metadata": {},
   "outputs": [],
   "source": [
    "# Function to compare and summarize\n",
    "def compare_summary(zonal_totals, fao_totals):\n",
    "    # Merge datasets\n",
    "    comparison = pd.merge(zonal_totals, fao_totals, left_index=True, right_index=True, suffixes=('_zonal', '_fao'))\n",
    "    \n",
    "    # Initialize counters\n",
    "    same_count = 0\n",
    "    different_count = 0\n",
    "    \n",
    "    # Loop through each species\n",
    "    for species in zonal_totals.columns:\n",
    "        # Compare values\n",
    "        is_same = comparison[species + '_zonal'] == comparison['Value']\n",
    "        \n",
    "        # Count same and different\n",
    "        same_count += is_same.sum()\n",
    "        different_count += (~is_same).sum()\n",
    "    \n",
    "    return same_count, different_count\n",
    "\n",
    "# Call the function to get summary\n",
    "same_count, different_count = compare_summary(zonal_totals, fao_totals)\n",
    "\n",
    "# Print summary\n",
    "print(f\"Number of entries that are the same: {same_count}\")"
   ]
  },
  {
   "cell_type": "markdown",
   "id": "c461efd0-f129-446c-85bd-b58785e48d4d",
   "metadata": {},
   "source": [
    "7.Create Percentage of each region against total population"
   ]
  },
  {
   "cell_type": "code",
   "execution_count": null,
   "id": "529832bd-656d-4796-951d-e8686312c797",
   "metadata": {},
   "outputs": [],
   "source": [
    "# Merge zonal_totals with fao_totals\n",
    "merged_data = pd.merge(zonal_totals, fao_totals, left_on='NAME_1', right_on='Country', suffixes=('_zonal', '_fao'))\n"
   ]
  },
  {
   "cell_type": "code",
   "execution_count": null,
   "id": "f2667ae9-c4c3-41de-8064-6931676e4342",
   "metadata": {},
   "outputs": [],
   "source": [
    "# Calculate percentage for each species\n",
    "species_of_interest = ['Cattle', 'Buffalo', 'Pigs', 'Goats', 'Sheep']\n",
    "\n",
    "for species in species_of_interest:\n",
    "    # Calculate percentage for level 1 (NAME_1)\n",
    "    merged_data[f'{species}_percent_level1'] = (merged_data[species] / merged_data[f'{species}_fao']) * 100\n",
    "    \n",
    "    # Calculate percentage for level 2 (NAME_2 or district)\n",
    "    merged_data[f'{species}_percent_level2'] = (merged_data[species] / merged_data[f'{species}_fao']) * 100\n",
    "\n",
    "# Select columns of interest\n",
    "result_columns = ['Country', 'NAME_1', 'NAME_2'] + [f'{species}_percent_level1' for species in species_of_interest] + [f'{species}_percent_level2' for species in species_of_interest]\n",
    "result_df = merged_data[result_columns]\n",
    "\n",
    "# Display or export result_df as needed\n",
    "print(result_df)\n"
   ]
  },
  {
   "cell_type": "code",
   "execution_count": null,
   "id": "035368c9-e343-46a7-baba-ac8178b1f1e0",
   "metadata": {},
   "outputs": [],
   "source": [
    "# Export to CSV\n",
    "results_df.to_csv(\"zonal_statistics.csv\", index=False)"
   ]
  }
 ],
 "metadata": {
  "kernelspec": {
   "display_name": "Python 3 (ipykernel)",
   "language": "python",
   "name": "python3"
  },
  "language_info": {
   "codemirror_mode": {
    "name": "ipython",
    "version": 3
   },
   "file_extension": ".py",
   "mimetype": "text/x-python",
   "name": "python",
   "nbconvert_exporter": "python",
   "pygments_lexer": "ipython3",
   "version": "3.8.19"
  }
 },
 "nbformat": 4,
 "nbformat_minor": 5
}
